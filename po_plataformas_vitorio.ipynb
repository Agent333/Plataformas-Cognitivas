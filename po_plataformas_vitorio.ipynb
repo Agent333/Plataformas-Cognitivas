{
  "nbformat": 4,
  "nbformat_minor": 0,
  "metadata": {
    "colab": {
      "provenance": [],
      "authorship_tag": "ABX9TyNjweEVaOEfn0rMBQ4y4fT7",
      "include_colab_link": true
    },
    "kernelspec": {
      "name": "python3",
      "display_name": "Python 3"
    },
    "language_info": {
      "name": "python"
    }
  },
  "cells": [
    {
      "cell_type": "markdown",
      "metadata": {
        "id": "view-in-github",
        "colab_type": "text"
      },
      "source": [
        "<a href=\"https://colab.research.google.com/gist/Agent333/38a6b735d09a2effd0d2e90c2728fc81/po_plataformas_vitorio.ipynb\" target=\"_parent\"><img src=\"https://colab.research.google.com/assets/colab-badge.svg\" alt=\"Open In Colab\"/></a>"
      ]
    },
    {
      "cell_type": "code",
      "execution_count": 1,
      "metadata": {
        "colab": {
          "base_uri": "https://localhost:8080/"
        },
        "id": "WebkMvuaEZdJ",
        "outputId": "42544701-e0b0-4f77-b519-b13c34b70966"
      },
      "outputs": [
        {
          "output_type": "stream",
          "name": "stdout",
          "text": [
            "O tempo esta nublado em Votorantim, e a temperatura atual é de 26.9.\n"
          ]
        }
      ],
      "source": [
        "import requests\n",
        "\n",
        "#latitue e longitude de votorantim, cidade que começa com a primeira letra do meu nome, Vitório c:\n",
        "\n",
        "res = requests.get('https://api.openweathermap.org/data/2.5/weather?lat=-23.5405&lon=-47.444&appid=bed1b5032527f81a03f41d41ce08fdd1&lang=pt_br&main.temp=Celsius')\n",
        "\n",
        "\n",
        "if res.status_code == 200:\n",
        "  data = res.json()\n",
        "  clima = data[\"weather\"][0][\"description\"]\n",
        "  tempK = data[\"main\"][\"temp\"]\n",
        "  tempC = tempK - 273.15\n",
        "  print(f\"O tempo esta {clima} em Votorantim, e a temperatura atual é de {tempC:.1f}.\")\n",
        "else:\n",
        "  print('Não foi possível verificar a temperatura')\n",
        "\n",
        "# print(res)"
      ]
    }
  ]
}